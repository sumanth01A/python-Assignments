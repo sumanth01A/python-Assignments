{
 "cells": [
  {
   "cell_type": "code",
   "execution_count": 2,
   "id": "4776dea8-f419-4152-9607-09df67fc2883",
   "metadata": {},
   "outputs": [
    {
     "name": "stdout",
     "output_type": "stream",
     "text": [
      "Sumanth Kumar\n"
     ]
    }
   ],
   "source": [
    "print(\"Sumanth Kumar\")  \n"
   ]
  },
  {
   "cell_type": "code",
   "execution_count": 6,
   "id": "aa2034c1-4131-49f8-94f7-b22e0c46e0c8",
   "metadata": {},
   "outputs": [
    {
     "name": "stdout",
     "output_type": "stream",
     "text": [
      "Comment examples in Python\n"
     ]
    }
   ],
   "source": [
    "# This is a single-line comment\n",
    "\n",
    "\"\"\"\n",
    "This is a multi-line comment.\n",
    "It spans multiple lines.\n",
    "Useful for documentation.\n",
    "\"\"\"\n",
    "print(\"Comment examples in Python\")\n"
   ]
  },
  {
   "cell_type": "code",
   "execution_count": 8,
   "id": "3441e804-dd2c-4751-99a1-4c4b2b0e8402",
   "metadata": {},
   "outputs": [
    {
     "name": "stdout",
     "output_type": "stream",
     "text": [
      "Integer: 10\n",
      "Boolean: True\n",
      "Character: A\n",
      "Float: 10.5\n",
      "Double (handled as float in Python): 20.123456789\n"
     ]
    }
   ],
   "source": [
    "int_var = 10  \n",
    "bool_var = True  \n",
    "char_var = 'A'  \n",
    "float_var = 10.5  \n",
    "double_var = 20.123456789  \n",
    "\n",
    "print(\"Integer:\", int_var)  \n",
    "print(\"Boolean:\", bool_var)  \n",
    "print(\"Character:\", char_var)  \n",
    "print(\"Float:\", float_var)  \n",
    "print(\"Double (handled as float in Python):\", double_var)  \n"
   ]
  },
  {
   "cell_type": "code",
   "execution_count": 10,
   "id": "5f8f406b-6ba8-45f8-afab-f3350d747c56",
   "metadata": {},
   "outputs": [
    {
     "name": "stdout",
     "output_type": "stream",
     "text": [
      "Inside function: I am a local variable\n",
      "Outside function: I am a global variable\n"
     ]
    }
   ],
   "source": [
    "global_var = \"I am a global variable\"  \n",
    "\n",
    "def my_function():\n",
    "    global_var = \"I am a local variable\"  \n",
    "    print(\"Inside function:\", global_var)  \n",
    "\n",
    "my_function()\n",
    "print(\"Outside function:\", global_var)  \n"
   ]
  },
  {
   "cell_type": "code",
   "execution_count": 12,
   "id": "435b1f70-6af9-47e4-b528-07cc31e82d61",
   "metadata": {},
   "outputs": [
    {
     "name": "stdout",
     "output_type": "stream",
     "text": [
      "Addition: 15\n",
      "Subtraction: 5\n",
      "Multiplication: 50\n",
      "Division: 2.0\n"
     ]
    }
   ],
   "source": [
    "def arithmetic_operations(a, b):\n",
    "    print(\"Addition:\", a + b)\n",
    "    print(\"Subtraction:\", a - b)\n",
    "    print(\"Multiplication:\", a * b)\n",
    "    print(\"Division:\", a / b)\n",
    "\n",
    "arithmetic_operations(10, 5)\n"
   ]
  },
  {
   "cell_type": "code",
   "execution_count": 14,
   "id": "ba6629b4-2d39-4b2b-aa66-ee1ceb0d1633",
   "metadata": {},
   "outputs": [
    {
     "name": "stdout",
     "output_type": "stream",
     "text": [
      "After Increment: 6\n",
      "After Decrement: 5\n"
     ]
    }
   ],
   "source": [
    "def increment_decrement(value):\n",
    "    value += 1\n",
    "    print(\"After Increment:\", value)\n",
    "    value -= 1\n",
    "    print(\"After Decrement:\", value)\n",
    "\n",
    "increment_decrement(5)\n"
   ]
  },
  {
   "cell_type": "code",
   "execution_count": 16,
   "id": "a8cefd7f-2561-44b6-b47a-8a2fb700f953",
   "metadata": {},
   "outputs": [
    {
     "name": "stdout",
     "output_type": "stream",
     "text": [
      "Numbers are not equal\n"
     ]
    }
   ],
   "source": [
    "def check_equality(a, b):\n",
    "    if a == b:\n",
    "        print(\"Both numbers are equal\")\n",
    "    else:\n",
    "        print(\"Numbers are not equal\")\n",
    "\n",
    "check_equality(10, 20)\n"
   ]
  },
  {
   "cell_type": "code",
   "execution_count": 18,
   "id": "2e8dd02b-9bd6-4e64-bc37-5d0ae4b46300",
   "metadata": {},
   "outputs": [
    {
     "name": "stdout",
     "output_type": "stream",
     "text": [
      "a < b: True\n",
      "a <= b: True\n",
      "a > b: False\n",
      "a >= b: False\n"
     ]
    }
   ],
   "source": [
    "def relational_operators(a, b):\n",
    "    print(\"a < b:\", a < b)\n",
    "    print(\"a <= b:\", a <= b)\n",
    "    print(\"a > b:\", a > b)\n",
    "    print(\"a >= b:\", a >= b)\n",
    "\n",
    "relational_operators(10, 20)\n"
   ]
  },
  {
   "cell_type": "code",
   "execution_count": 20,
   "id": "179fc274-94ca-4609-84f3-269abe5b6ab1",
   "metadata": {},
   "outputs": [
    {
     "name": "stdout",
     "output_type": "stream",
     "text": [
      "Smaller Number: 10\n",
      "Larger Number: 20\n"
     ]
    }
   ],
   "source": [
    "def find_smaller_larger(a, b):\n",
    "    smaller = min(a, b)\n",
    "    larger = max(a, b)\n",
    "    print(\"Smaller Number:\", smaller)\n",
    "    print(\"Larger Number:\", larger)\n",
    "\n",
    "find_smaller_larger(10, 20)\n"
   ]
  },
  {
   "cell_type": "code",
   "execution_count": 22,
   "id": "df42e8b9-2592-402d-a743-edffa7139666",
   "metadata": {},
   "outputs": [
    {
     "name": "stdout",
     "output_type": "stream",
     "text": [
      "Bright IT Career\n",
      "Bright IT Career\n",
      "Bright IT Career\n",
      "Bright IT Career\n",
      "Bright IT Career\n",
      "Bright IT Career\n",
      "Bright IT Career\n",
      "Bright IT Career\n",
      "Bright IT Career\n",
      "Bright IT Career\n"
     ]
    }
   ],
   "source": [
    "for _ in range(10):\n",
    "    print(\"Bright IT Career\")\n"
   ]
  },
  {
   "cell_type": "code",
   "execution_count": 24,
   "id": "7e4bd783-ac4f-44a4-8ec9-1ec222e97701",
   "metadata": {},
   "outputs": [
    {
     "name": "stdout",
     "output_type": "stream",
     "text": [
      "1\n",
      "2\n",
      "3\n",
      "4\n",
      "5\n",
      "6\n",
      "7\n",
      "8\n",
      "9\n",
      "10\n",
      "11\n",
      "12\n",
      "13\n",
      "14\n",
      "15\n",
      "16\n",
      "17\n",
      "18\n",
      "19\n",
      "20\n"
     ]
    }
   ],
   "source": [
    "num = 1\n",
    "while num <= 20:\n",
    "    print(num)\n",
    "    num += 1\n"
   ]
  },
  {
   "cell_type": "code",
   "execution_count": 26,
   "id": "ca38a846-0032-4131-bffc-bae69eb93774",
   "metadata": {},
   "outputs": [
    {
     "name": "stdout",
     "output_type": "stream",
     "text": [
      "a == b: False\n",
      "a != b: True\n"
     ]
    }
   ],
   "source": [
    "a, b = 10, 20\n",
    "print(\"a == b:\", a == b)\n",
    "print(\"a != b:\", a != b)\n"
   ]
  },
  {
   "cell_type": "code",
   "execution_count": 28,
   "id": "95425175-5403-4a6c-b677-603198e90c69",
   "metadata": {},
   "outputs": [
    {
     "name": "stdout",
     "output_type": "stream",
     "text": [
      "Even Numbers:\n",
      "2 4 6 8 10 \n",
      "Odd Numbers:\n",
      "1 3 5 7 9 "
     ]
    }
   ],
   "source": [
    "def print_odd_even(n):\n",
    "    print(\"Even Numbers:\")\n",
    "    for i in range(1, n+1):\n",
    "        if i % 2 == 0:\n",
    "            print(i, end=\" \")\n",
    "    \n",
    "    print(\"\\nOdd Numbers:\")\n",
    "    for i in range(1, n+1):\n",
    "        if i % 2 != 0:\n",
    "            print(i, end=\" \")\n",
    "\n",
    "print_odd_even(10)\n"
   ]
  },
  {
   "cell_type": "code",
   "execution_count": 30,
   "id": "76762592-5ea0-4452-bc6e-acc6b3623330",
   "metadata": {},
   "outputs": [
    {
     "name": "stdout",
     "output_type": "stream",
     "text": [
      "Largest Number: 25\n"
     ]
    }
   ],
   "source": [
    "def largest_number(a, b, c):\n",
    "    print(\"Largest Number:\", max(a, b, c))\n",
    "\n",
    "largest_number(10, 25, 15)\n"
   ]
  },
  {
   "cell_type": "code",
   "execution_count": 32,
   "id": "f947da68-d0c7-407e-b433-589ff7db38d9",
   "metadata": {},
   "outputs": [
    {
     "name": "stdout",
     "output_type": "stream",
     "text": [
      "10\n",
      "12\n",
      "14\n",
      "16\n",
      "18\n",
      "20\n"
     ]
    }
   ],
   "source": [
    "num = 10\n",
    "while num <= 20:\n",
    "    if num % 2 == 0:\n",
    "        print(num)\n",
    "    num += 1\n"
   ]
  },
  {
   "cell_type": "code",
   "execution_count": 34,
   "id": "2b4e613e-d2d8-4fe1-b347-76cc22ed151e",
   "metadata": {},
   "outputs": [
    {
     "name": "stdout",
     "output_type": "stream",
     "text": [
      "1\n",
      "2\n",
      "3\n",
      "4\n",
      "5\n",
      "6\n",
      "7\n",
      "8\n",
      "9\n",
      "10\n"
     ]
    }
   ],
   "source": [
    "num = 1\n",
    "while True:\n",
    "    print(num)\n",
    "    num += 1\n",
    "    if num > 10:\n",
    "        break\n"
   ]
  },
  {
   "cell_type": "code",
   "execution_count": 36,
   "id": "ce4a3fd5-5547-425e-bfed-3484b5f755c9",
   "metadata": {},
   "outputs": [
    {
     "name": "stdout",
     "output_type": "stream",
     "text": [
      "153 is an Armstrong number\n"
     ]
    }
   ],
   "source": [
    "def is_armstrong(n):\n",
    "    sum_of_digits = sum(int(digit) ** len(str(n)) for digit in str(n))\n",
    "    return n == sum_of_digits\n",
    "\n",
    "num = 153\n",
    "print(f\"{num} is an Armstrong number\" if is_armstrong(num) else f\"{num} is not an Armstrong number\")\n"
   ]
  },
  {
   "cell_type": "code",
   "execution_count": 38,
   "id": "148ce518-1605-4afa-86cc-13611ac6425c",
   "metadata": {},
   "outputs": [
    {
     "name": "stdout",
     "output_type": "stream",
     "text": [
      "29 is a Prime number\n"
     ]
    }
   ],
   "source": [
    "def is_prime(n):\n",
    "    if n < 2:\n",
    "        return False\n",
    "    for i in range(2, int(n ** 0.5) + 1):\n",
    "        if n % i == 0:\n",
    "            return False\n",
    "    return True\n",
    "\n",
    "num = 29\n",
    "print(f\"{num} is a Prime number\" if is_prime(num) else f\"{num} is not a Prime number\")\n"
   ]
  },
  {
   "cell_type": "code",
   "execution_count": 40,
   "id": "6fc71df0-ca5a-42d6-91a4-64254781dae2",
   "metadata": {},
   "outputs": [
    {
     "name": "stdout",
     "output_type": "stream",
     "text": [
      "121 is a Palindrome\n"
     ]
    }
   ],
   "source": [
    "def is_palindrome(n):\n",
    "    return str(n) == str(n)[::-1]\n",
    "\n",
    "num = 121\n",
    "print(f\"{num} is a Palindrome\" if is_palindrome(num) else f\"{num} is not a Palindrome\")\n"
   ]
  },
  {
   "cell_type": "code",
   "execution_count": 42,
   "id": "81ee7ed1-3117-47e5-9842-cfcaba68abfc",
   "metadata": {},
   "outputs": [
    {
     "name": "stdout",
     "output_type": "stream",
     "text": [
      "10 is Even\n"
     ]
    }
   ],
   "source": [
    "def check_even_odd(n):\n",
    "    switch = {\n",
    "        0: \"Even\",\n",
    "        1: \"Odd\"\n",
    "    }\n",
    "    print(f\"{n} is {switch[n % 2]}\")\n",
    "\n",
    "check_even_odd(10)\n"
   ]
  },
  {
   "cell_type": "code",
   "execution_count": 44,
   "id": "9679f912-6673-4e18-aa7f-094aa57253b4",
   "metadata": {},
   "outputs": [
    {
     "name": "stdout",
     "output_type": "stream",
     "text": [
      "Male\n"
     ]
    }
   ],
   "source": [
    "def get_gender(g):\n",
    "    switch = {\n",
    "        'M': \"Male\",\n",
    "        'F': \"Female\"\n",
    "    }\n",
    "    print(switch.get(g.upper(), \"Invalid Input\"))\n",
    "\n",
    "get_gender('M')\n"
   ]
  },
  {
   "cell_type": "code",
   "execution_count": 46,
   "id": "7f0eb1d4-3504-46e1-bd98-01af87c41174",
   "metadata": {},
   "outputs": [
    {
     "name": "stdout",
     "output_type": "stream",
     "text": [
      "15\n"
     ]
    }
   ],
   "source": [
    "def sum_array(arr):\n",
    "    return sum(arr)\n",
    "\n",
    "print(sum_array([1, 2, 3, 4, 5]))\n"
   ]
  },
  {
   "cell_type": "code",
   "execution_count": 48,
   "id": "d214ef46-d730-4a57-9ef1-5f56584b5afa",
   "metadata": {},
   "outputs": [
    {
     "name": "stdout",
     "output_type": "stream",
     "text": [
      "3.0\n"
     ]
    }
   ],
   "source": [
    "def average_array(arr):\n",
    "    return sum(arr) / len(arr) if arr else 0\n",
    "\n",
    "print(average_array([1, 2, 3, 4, 5]))\n"
   ]
  },
  {
   "cell_type": "code",
   "execution_count": 50,
   "id": "c44c1410-189d-4594-a5ce-f6348a37278a",
   "metadata": {},
   "outputs": [
    {
     "name": "stdout",
     "output_type": "stream",
     "text": [
      "2\n"
     ]
    }
   ],
   "source": [
    "def find_index(arr, element):\n",
    "    return arr.index(element) if element in arr else -1\n",
    "\n",
    "print(find_index([10, 20, 30, 40], 30))\n"
   ]
  },
  {
   "cell_type": "code",
   "execution_count": 52,
   "id": "4b8107d6-7bd7-4cca-b11b-72145f02dd0a",
   "metadata": {},
   "outputs": [
    {
     "name": "stdout",
     "output_type": "stream",
     "text": [
      "True\n"
     ]
    }
   ],
   "source": [
    "\n",
    "def contains_value(arr, value):\n",
    "    return value in arr\n",
    "\n",
    "print(contains_value([10, 20, 30], 20))\n"
   ]
  },
  {
   "cell_type": "code",
   "execution_count": 54,
   "id": "175a0a10-9551-4dc7-9266-fb62c9a5d054",
   "metadata": {},
   "outputs": [
    {
     "name": "stdout",
     "output_type": "stream",
     "text": [
      "[1, 3, 4, 5]\n"
     ]
    }
   ],
   "source": [
    "def remove_element(arr, value):\n",
    "    return [x for x in arr if x != value]\n",
    "\n",
    "print(remove_element([1, 2, 3, 4, 2, 5], 2))\n"
   ]
  },
  {
   "cell_type": "code",
   "execution_count": 56,
   "id": "9da7ca83-d034-4533-9814-24b228056f8a",
   "metadata": {},
   "outputs": [
    {
     "name": "stdout",
     "output_type": "stream",
     "text": [
      "[1, 2, 3, 4]\n"
     ]
    }
   ],
   "source": [
    "def copy_array(arr):\n",
    "    return arr.copy()\n",
    "\n",
    "original = [1, 2, 3, 4]\n",
    "copy = copy_array(original)\n",
    "print(copy)\n"
   ]
  },
  {
   "cell_type": "code",
   "execution_count": 58,
   "id": "99199439-14b8-4921-97c9-d84168a49ea5",
   "metadata": {},
   "outputs": [
    {
     "name": "stdout",
     "output_type": "stream",
     "text": [
      "[1, 2, 10, 3, 4]\n"
     ]
    }
   ],
   "source": [
    "def insert_element(arr, index, value):\n",
    "    arr.insert(index, value)\n",
    "    return arr\n",
    "\n",
    "print(insert_element([1, 2, 3, 4], 2, 10))\n"
   ]
  },
  {
   "cell_type": "code",
   "execution_count": 60,
   "id": "8d5b578f-1f45-4f6d-9ff9-c7356c089816",
   "metadata": {},
   "outputs": [
    {
     "name": "stdout",
     "output_type": "stream",
     "text": [
      "(5, 40)\n"
     ]
    }
   ],
   "source": [
    "def min_max(arr):\n",
    "    return min(arr), max(arr)\n",
    "\n",
    "print(min_max([10, 20, 5, 30, 40]))\n"
   ]
  },
  {
   "cell_type": "code",
   "execution_count": 62,
   "id": "39ad63f8-9e98-429f-85c8-6da18242e0e3",
   "metadata": {},
   "outputs": [
    {
     "name": "stdout",
     "output_type": "stream",
     "text": [
      "[5, 4, 3, 2, 1]\n"
     ]
    }
   ],
   "source": [
    "def reverse_array(arr):\n",
    "    return arr[::-1]\n",
    "\n",
    "print(reverse_array([1, 2, 3, 4, 5]))\n"
   ]
  },
  {
   "cell_type": "code",
   "execution_count": 64,
   "id": "e168129f-8f7b-405d-b53f-a4e4f6648f12",
   "metadata": {},
   "outputs": [
    {
     "name": "stdout",
     "output_type": "stream",
     "text": [
      "[1, 2]\n"
     ]
    }
   ],
   "source": [
    "def find_duplicates(arr):\n",
    "    seen = set()\n",
    "    duplicates = set()\n",
    "    for num in arr:\n",
    "        if num in seen:\n",
    "            duplicates.add(num)\n",
    "        else:\n",
    "            seen.add(num)\n",
    "    return list(duplicates)\n",
    "\n",
    "print(find_duplicates([1, 2, 3, 2, 4, 5, 1]))\n"
   ]
  },
  {
   "cell_type": "code",
   "execution_count": 66,
   "id": "94cce79b-5775-4676-99f3-165e3aabcdf7",
   "metadata": {},
   "outputs": [
    {
     "name": "stdout",
     "output_type": "stream",
     "text": [
      "[3, 4]\n"
     ]
    }
   ],
   "source": [
    "def common_values(arr1, arr2):\n",
    "    return list(set(arr1) & set(arr2))\n",
    "\n",
    "print(common_values([1, 2, 3, 4], [3, 4, 5, 6]))\n"
   ]
  },
  {
   "cell_type": "code",
   "execution_count": 68,
   "id": "5ce73c09-391a-46c9-902e-bf086eeb6fb1",
   "metadata": {},
   "outputs": [
    {
     "name": "stdout",
     "output_type": "stream",
     "text": [
      "[1, 2, 3, 4, 5]\n"
     ]
    }
   ],
   "source": [
    "def remove_duplicates(arr):\n",
    "    return list(set(arr))\n",
    "\n",
    "print(remove_duplicates([1, 2, 2, 3, 4, 4, 5]))\n"
   ]
  },
  {
   "cell_type": "code",
   "execution_count": 70,
   "id": "3b1b7069-2d32-4753-8946-894310cee672",
   "metadata": {},
   "outputs": [
    {
     "name": "stdout",
     "output_type": "stream",
     "text": [
      "45\n"
     ]
    }
   ],
   "source": [
    "def second_largest(arr):\n",
    "    unique_sorted = sorted(set(arr), reverse=True)\n",
    "    return unique_sorted[1] if len(unique_sorted) > 1 else None\n",
    "\n",
    "print(second_largest([10, 20, 4, 45, 99, 99]))\n"
   ]
  },
  {
   "cell_type": "code",
   "execution_count": 72,
   "id": "9ff57dcf-1064-44c6-a8b9-4f942262938d",
   "metadata": {},
   "outputs": [
    {
     "name": "stdout",
     "output_type": "stream",
     "text": [
      "(3, 3)\n"
     ]
    }
   ],
   "source": [
    "def count_even_odd(arr):\n",
    "    evens = sum(1 for x in arr if x % 2 == 0)\n",
    "    odds = len(arr) - evens\n",
    "    return evens, odds\n",
    "\n",
    "print(count_even_odd([1, 2, 3, 4, 5, 6]))\n"
   ]
  },
  {
   "cell_type": "code",
   "execution_count": 74,
   "id": "a38e9532-16ec-405e-a39b-d21303654176",
   "metadata": {},
   "outputs": [
    {
     "name": "stdout",
     "output_type": "stream",
     "text": [
      "35\n"
     ]
    }
   ],
   "source": [
    "def diff_largest_smallest(arr):\n",
    "    return max(arr) - min(arr)\n",
    "\n",
    "print(diff_largest_smallest([10, 20, 5, 30, 40]))\n"
   ]
  },
  {
   "cell_type": "code",
   "execution_count": 76,
   "id": "e597fb34-9b4a-4bbc-982a-9b72048ff77c",
   "metadata": {},
   "outputs": [
    {
     "name": "stdout",
     "output_type": "stream",
     "text": [
      "True\n"
     ]
    }
   ],
   "source": [
    "def contains_elements(arr, elements):\n",
    "    return all(elem in arr for elem in elements)\n",
    "\n",
    "print(contains_elements([10, 12, 15, 23], [12, 23]))\n"
   ]
  },
  {
   "cell_type": "code",
   "execution_count": 78,
   "id": "544b6314-f062-4c39-a6ec-5fe235ff72cb",
   "metadata": {},
   "outputs": [
    {
     "name": "stdout",
     "output_type": "stream",
     "text": [
      "[1, 2, 3, 4, 5]\n"
     ]
    }
   ],
   "source": [
    "def remove_duplicates_new_array(arr):\n",
    "    return list(dict.fromkeys(arr))\n",
    "\n",
    "print(remove_duplicates_new_array([1, 2, 2, 3, 4, 4, 5]))\n"
   ]
  },
  {
   "cell_type": "code",
   "execution_count": 80,
   "id": "73d5e88a-b964-450d-a0b3-1c91c6329bc3",
   "metadata": {},
   "outputs": [
    {
     "name": "stdout",
     "output_type": "stream",
     "text": [
      "100\n"
     ]
    }
   ],
   "source": [
    "class Example:\n",
    "    static_var = 100  \n",
    "\n",
    "print(Example.static_var)  \n"
   ]
  },
  {
   "cell_type": "code",
   "execution_count": 82,
   "id": "52580190-9eb5-488f-8c52-21484ee63e32",
   "metadata": {},
   "outputs": [
    {
     "name": "stdout",
     "output_type": "stream",
     "text": [
      "100\n"
     ]
    }
   ],
   "source": [
    "class Example:\n",
    "    static_var = 100  \n",
    "\n",
    "obj = Example()\n",
    "print(obj.static_var)  \n"
   ]
  },
  {
   "cell_type": "code",
   "execution_count": 84,
   "id": "71ccfd6a-4532-42cc-b603-18b773ca6696",
   "metadata": {},
   "outputs": [
    {
     "name": "stdout",
     "output_type": "stream",
     "text": [
      "obj1: 200\n",
      "Example: 100\n"
     ]
    }
   ],
   "source": [
    "class Example:\n",
    "    static_var = 100  \n",
    "\n",
    "obj1 = Example()\n",
    "obj1.static_var = 200  \n",
    "\n",
    "print(\"obj1:\", obj1.static_var)   \n",
    "print(\"Example:\", Example.static_var)  \n"
   ]
  },
  {
   "cell_type": "code",
   "execution_count": 86,
   "id": "e37b0cb9-bd0a-424b-a732-7cd9ef488a3e",
   "metadata": {},
   "outputs": [
    {
     "name": "stdout",
     "output_type": "stream",
     "text": [
      "500\n",
      "500\n"
     ]
    }
   ],
   "source": [
    "class Example:\n",
    "    static_var = 100  \n",
    "\n",
    "Example.static_var = 500  \n",
    "\n",
    "print(Example.static_var)  \n",
    "obj1 = Example()\n",
    "print(obj1.static_var)  \n"
   ]
  },
  {
   "cell_type": "code",
   "execution_count": null,
   "id": "bf7c2a0b-c2d1-4559-b36a-80423c52380e",
   "metadata": {},
   "outputs": [],
   "source": []
  }
 ],
 "metadata": {
  "kernelspec": {
   "display_name": "Python 3 (ipykernel)",
   "language": "python",
   "name": "python3"
  },
  "language_info": {
   "codemirror_mode": {
    "name": "ipython",
    "version": 3
   },
   "file_extension": ".py",
   "mimetype": "text/x-python",
   "name": "python",
   "nbconvert_exporter": "python",
   "pygments_lexer": "ipython3",
   "version": "3.11.7"
  }
 },
 "nbformat": 4,
 "nbformat_minor": 5
}
