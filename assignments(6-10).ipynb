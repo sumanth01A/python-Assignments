{
 "cells": [
  {
   "cell_type": "code",
   "execution_count": 14,
   "id": "117c65e0-6925-4e9d-9615-82cfdddb4078",
   "metadata": {},
   "outputs": [
    {
     "name": "stdout",
     "output_type": "stream",
     "text": [
      "Hello Hello Hello Hello Hello\n"
     ]
    }
   ],
   "source": [
    "str1 = \"Hello\"\n",
    "str2 = 'Hello'\n",
    "str3 = \"\"\"Hello\"\"\"\n",
    "str4 = '''Hello'''\n",
    "str5 = str(\"Hello\")\n",
    "\n",
    "print(str1, str2, str3, str4, str5)\n"
   ]
  },
  {
   "cell_type": "code",
   "execution_count": 16,
   "id": "e61d558c-97a9-43ae-9745-c0b9dddb19f1",
   "metadata": {},
   "outputs": [
    {
     "name": "stdout",
     "output_type": "stream",
     "text": [
      "Hello World\n"
     ]
    }
   ],
   "source": [
    "str1 = \"Hello\"\n",
    "str2 = \"World\"\n",
    "result = str1 + \" \" + str2\n",
    "print(result)\n"
   ]
  },
  {
   "cell_type": "code",
   "execution_count": 18,
   "id": "5351bbd5-49ef-422d-aa33-68a486ee4b1b",
   "metadata": {},
   "outputs": [
    {
     "name": "stdout",
     "output_type": "stream",
     "text": [
      "11\n"
     ]
    }
   ],
   "source": [
    "str1 = \"Hello World\"\n",
    "length = len(str1)\n",
    "print(length)\n"
   ]
  },
  {
   "cell_type": "code",
   "execution_count": 20,
   "id": "58ade550-46dd-4c72-91d6-6f3733841cb1",
   "metadata": {},
   "outputs": [
    {
     "name": "stdout",
     "output_type": "stream",
     "text": [
      "Hello\n"
     ]
    }
   ],
   "source": [
    "str1 = \"Hello World\"\n",
    "substring = str1[0:5]\n",
    "print(substring)\n"
   ]
  },
  {
   "cell_type": "code",
   "execution_count": 22,
   "id": "ff749d61-dd03-49fb-9609-e21068b1d0c2",
   "metadata": {},
   "outputs": [
    {
     "name": "stdout",
     "output_type": "stream",
     "text": [
      "6\n"
     ]
    }
   ],
   "source": [
    "str1 = \"Hello World\"\n",
    "position = str1.index(\"World\")\n",
    "print(position)\n"
   ]
  },
  {
   "cell_type": "code",
   "execution_count": 24,
   "id": "4026e964-67fc-4d35-8ca3-5844adeff24b",
   "metadata": {},
   "outputs": [
    {
     "name": "stdout",
     "output_type": "stream",
     "text": [
      "Match found: 123\n"
     ]
    }
   ],
   "source": [
    "import re\n",
    "\n",
    "str1 = \"Hello123\"\n",
    "pattern = r\"\\d+\"  \n",
    "match = re.search(pattern, str1)\n",
    "\n",
    "if match:\n",
    "    print(\"Match found:\", match.group())\n",
    "else:\n",
    "    print(\"No match found\")\n"
   ]
  },
  {
   "cell_type": "code",
   "execution_count": 26,
   "id": "2063b573-c743-4d27-9f88-fb69c0c2f54d",
   "metadata": {},
   "outputs": [
    {
     "name": "stdout",
     "output_type": "stream",
     "text": [
      "False\n",
      "True\n"
     ]
    }
   ],
   "source": [
    "str1 = \"Hello\"\n",
    "str2 = \"hello\"\n",
    "\n",
    "print(str1 == str2)  \n",
    "print(str1.lower() == str2.lower())  \n"
   ]
  },
  {
   "cell_type": "code",
   "execution_count": 28,
   "id": "207587ec-5238-4f30-960f-8f0390f59b99",
   "metadata": {},
   "outputs": [
    {
     "name": "stdout",
     "output_type": "stream",
     "text": [
      "True\n",
      "True\n"
     ]
    }
   ],
   "source": [
    "str1 = \"Hello World\"\n",
    "\n",
    "print(str1.startswith(\"Hello\"))  \n",
    "print(str1.endswith(\"World\"))  \n"
   ]
  },
  {
   "cell_type": "code",
   "execution_count": 30,
   "id": "010131ac-2521-4fa8-a1e9-c13ced9ee4a4",
   "metadata": {},
   "outputs": [
    {
     "name": "stdout",
     "output_type": "stream",
     "text": [
      "Hello World\n"
     ]
    }
   ],
   "source": [
    "str1 = \"   Hello World   \"\n",
    "trimmed = str1.strip()\n",
    "print(trimmed)\n"
   ]
  },
  {
   "cell_type": "code",
   "execution_count": 32,
   "id": "82cecde2-4525-48c0-af3f-ef1022b123c0",
   "metadata": {},
   "outputs": [
    {
     "name": "stdout",
     "output_type": "stream",
     "text": [
      "Hello Python\n"
     ]
    }
   ],
   "source": [
    "str1 = \"Hello World\"\n",
    "new_str = str1.replace(\"World\", \"Python\")\n",
    "print(new_str)\n"
   ]
  },
  {
   "cell_type": "code",
   "execution_count": 34,
   "id": "c177f753-dc45-49d9-b845-57b6779b1703",
   "metadata": {},
   "outputs": [
    {
     "name": "stdout",
     "output_type": "stream",
     "text": [
      "['Hello', 'World', 'Python']\n"
     ]
    }
   ],
   "source": [
    "str1 = \"Hello World Python\"\n",
    "words = str1.split()\n",
    "print(words)\n"
   ]
  },
  {
   "cell_type": "code",
   "execution_count": 36,
   "id": "fa47eab2-9e25-420d-b4f9-8463815d33c4",
   "metadata": {},
   "outputs": [
    {
     "name": "stdout",
     "output_type": "stream",
     "text": [
      "100 <class 'str'>\n"
     ]
    }
   ],
   "source": [
    "num = 100\n",
    "str_num = str(num)\n",
    "print(str_num, type(str_num))\n"
   ]
  },
  {
   "cell_type": "code",
   "execution_count": 38,
   "id": "09b43c03-4640-4f61-8a4f-f0f9a776f6a3",
   "metadata": {},
   "outputs": [
    {
     "name": "stdout",
     "output_type": "stream",
     "text": [
      "HELLO WORLD\n",
      "hello world\n"
     ]
    }
   ],
   "source": [
    "str1 = \"Hello World\"\n",
    "\n",
    "upper_str = str1.upper()\n",
    "lower_str = str1.lower()\n",
    "\n",
    "print(upper_str)\n",
    "print(lower_str)\n"
   ]
  },
  {
   "cell_type": "code",
   "execution_count": 43,
   "id": "bcf62cb6-ec84-4f0c-92ec-a4ad4dab4eba",
   "metadata": {},
   "outputs": [],
   "source": [
    "class A:\n",
    "    def __init__(self):\n",
    "        self.value = \"Class A Variable\"\n",
    "\n",
    "    def method1(self):\n",
    "        print(\"Method1 from Class A\")\n",
    "\n",
    "    def method2(self):\n",
    "        print(\"Method2 from Class A\")\n",
    "\n",
    "    def override_method(self):\n",
    "        print(\"Overridden method from Class A\")\n"
   ]
  },
  {
   "cell_type": "code",
   "execution_count": 45,
   "id": "1dc92d71-6636-4e3f-974d-95707e866ebf",
   "metadata": {},
   "outputs": [],
   "source": [
    "class B(A):\n",
    "    def __init__(self):\n",
    "        super().__init__()\n",
    "        self.value = \"Class B Variable\"\n",
    "\n",
    "    def method3(self):\n",
    "        print(\"Method3 from Class B\")\n",
    "\n",
    "    def method4(self):\n",
    "        print(\"Method4 from Class B\")\n",
    "\n",
    "    def override_method(self):\n",
    "        print(\"Overridden method from Class B\")\n"
   ]
  },
  {
   "cell_type": "code",
   "execution_count": 47,
   "id": "6fb8260a-66cb-4f57-baea-d5da4a163549",
   "metadata": {},
   "outputs": [],
   "source": [
    "class C(B):\n",
    "    def __init__(self):\n",
    "        super().__init__()\n",
    "        self.value = \"Class C Variable\"\n",
    "\n",
    "    def method5(self):\n",
    "        print(\"Method5 from Class C\")\n",
    "\n",
    "    def method6(self):\n",
    "        print(\"Method6 from Class C\")\n",
    "\n",
    "    def override_method(self):\n",
    "        print(\"Overridden method from Class C\")\n"
   ]
  },
  {
   "cell_type": "code",
   "execution_count": 49,
   "id": "40a70326-609d-4bcb-b7f3-6ac2addc7c03",
   "metadata": {},
   "outputs": [
    {
     "name": "stdout",
     "output_type": "stream",
     "text": [
      "\n",
      "Calling methods using respective class objects:\n",
      "Method1 from Class A\n",
      "Method2 from Class A\n",
      "Overridden method from Class A\n",
      "Method1 from Class A\n",
      "Method2 from Class A\n",
      "Method3 from Class B\n",
      "Method4 from Class B\n",
      "Overridden method from Class B\n",
      "Method1 from Class A\n",
      "Method2 from Class A\n",
      "Method3 from Class B\n",
      "Method4 from Class B\n",
      "Method5 from Class C\n",
      "Method6 from Class C\n",
      "Overridden method from Class C\n",
      "\n",
      "Calling overridden methods using superclass reference:\n",
      "Overridden method from Class A\n",
      "Overridden method from Class A\n",
      "Overridden method from Class B\n",
      "Overridden method from Class C\n",
      "\n",
      "Demonstrating runtime polymorphism with data members:\n",
      "Value from objA: Class A Variable\n",
      "Value from objB: Class B Variable\n",
      "Value from objC: Class C Variable\n"
     ]
    }
   ],
   "source": [
    "class Main:\n",
    "    @staticmethod\n",
    "    def main():\n",
    "        objA = A()\n",
    "        objB = B()\n",
    "        objC = C()\n",
    "\n",
    "        print(\"\\nCalling methods using respective class objects:\")\n",
    "        objA.method1()\n",
    "        objA.method2()\n",
    "        objA.override_method()\n",
    "\n",
    "        objB.method1()\n",
    "        objB.method2()\n",
    "        objB.method3()\n",
    "        objB.method4()\n",
    "        objB.override_method()\n",
    "\n",
    "        objC.method1()\n",
    "        objC.method2()\n",
    "        objC.method3()\n",
    "        objC.method4()\n",
    "        objC.method5()\n",
    "        objC.method6()\n",
    "        objC.override_method()\n",
    "\n",
    "        print(\"\\nCalling overridden methods using superclass reference:\")\n",
    "        refB = A()\n",
    "        refC = A()\n",
    "\n",
    "        refB.override_method()\n",
    "        refC.override_method()\n",
    "\n",
    "        refB = B()\n",
    "        refB.override_method()\n",
    "\n",
    "        refC = C()\n",
    "        refC.override_method()\n",
    "\n",
    "        print(\"\\nDemonstrating runtime polymorphism with data members:\")\n",
    "        objA = A()\n",
    "        objB = B()\n",
    "        objC = C()\n",
    "\n",
    "        print(\"Value from objA:\", objA.value)\n",
    "        print(\"Value from objB:\", objB.value)\n",
    "        print(\"Value from objC:\", objC.value)\n",
    "\n",
    "Main.main()\n"
   ]
  },
  {
   "cell_type": "code",
   "execution_count": 53,
   "id": "0be42a40-61e9-4bdf-a875-15491827bd6b",
   "metadata": {},
   "outputs": [
    {
     "name": "stdout",
     "output_type": "stream",
     "text": [
      "Accessing private members from within the class:\n",
      "I am private\n",
      "This is a private method.\n",
      "\n",
      "Trying to access private members from subclass:\n",
      "Cannot access private variable directly!\n",
      "Cannot call private method directly!\n"
     ]
    }
   ],
   "source": [
    "class PrivateExample:\n",
    "    def __init__(self):\n",
    "        self.__private_var = \"I am private\"\n",
    "\n",
    "    def __private_method(self):\n",
    "        print(\"This is a private method.\")\n",
    "\n",
    "    def access_private(self):\n",
    "        print(self.__private_var)\n",
    "        self.__private_method()\n",
    "\n",
    "\n",
    "class SubClass(PrivateExample):\n",
    "    def try_access_private(self):\n",
    "        # Attempting to access private fields/methods\n",
    "        try:\n",
    "            print(self.__private_var)  # Will raise an AttributeError\n",
    "        except AttributeError:\n",
    "            print(\"Cannot access private variable directly!\")\n",
    "\n",
    "        try:\n",
    "            self.__private_method()  # Will raise an AttributeError\n",
    "        except AttributeError:\n",
    "            print(\"Cannot call private method directly!\")\n",
    "\n",
    "\n",
    "print(\"Accessing private members from within the class:\")\n",
    "obj = PrivateExample()\n",
    "obj.access_private()\n",
    "\n",
    "print(\"\\nTrying to access private members from subclass:\")\n",
    "sub_obj = SubClass()\n",
    "sub_obj.try_access_private()\n"
   ]
  },
  {
   "cell_type": "code",
   "execution_count": 55,
   "id": "2179e208-d3a4-4250-b9ef-66383604e66e",
   "metadata": {},
   "outputs": [
    {
     "name": "stdout",
     "output_type": "stream",
     "text": [
      "\n",
      "Accessing protected members from another class:\n",
      "Accessing protected variable directly (not recommended): I am protected\n",
      "This is a protected method.\n",
      "\n",
      "Accessing protected members from subclass:\n",
      "Accessing protected variable from subclass: I am protected\n",
      "This is a protected method.\n"
     ]
    }
   ],
   "source": [
    "class ProtectedExample:\n",
    "    def __init__(self):\n",
    "        self._protected_var = \"I am protected\"\n",
    "\n",
    "    def _protected_method(self):\n",
    "        print(\"This is a protected method.\")\n",
    "\n",
    "class SubClassProtected(ProtectedExample):\n",
    "    def access_protected(self):\n",
    "        print(\"Accessing protected variable from subclass:\", self._protected_var)\n",
    "        self._protected_method()\n",
    "\n",
    "\n",
    "print(\"\\nAccessing protected members from another class:\")\n",
    "obj = ProtectedExample()\n",
    "print(\"Accessing protected variable directly (not recommended):\", obj._protected_var)\n",
    "obj._protected_method()\n",
    "\n",
    "print(\"\\nAccessing protected members from subclass:\")\n",
    "sub_obj = SubClassProtected()\n",
    "sub_obj.access_protected()\n"
   ]
  },
  {
   "cell_type": "code",
   "execution_count": 57,
   "id": "580c31f7-b76a-46b5-9f18-eef86cc5d411",
   "metadata": {},
   "outputs": [
    {
     "name": "stdout",
     "output_type": "stream",
     "text": [
      "\n",
      "Accessing public members from another class:\n",
      "Accessing public variable: I am public\n",
      "This is a public method.\n"
     ]
    }
   ],
   "source": [
    "class PublicExample:\n",
    "    def __init__(self):\n",
    "        self.public_var = \"I am public\"\n",
    "\n",
    "    def public_method(self):\n",
    "        print(\"This is a public method.\")\n",
    "\n",
    "class AnotherClass:\n",
    "    def access_public(self):\n",
    "        obj = PublicExample()\n",
    "        print(\"Accessing public variable:\", obj.public_var)\n",
    "        obj.public_method()\n",
    "\n",
    "\n",
    "print(\"\\nAccessing public members from another class:\")\n",
    "another_obj = AnotherClass()\n",
    "another_obj.access_public()\n"
   ]
  },
  {
   "cell_type": "code",
   "execution_count": 61,
   "id": "9dad0598-d6d6-43b6-b36c-2fcf91446095",
   "metadata": {},
   "outputs": [],
   "source": [
    "from abc import ABC, abstractmethod\n",
    "\n",
    "class AbstractExample(ABC):  # Abstract class\n",
    "    def __init__(self):\n",
    "        self.value = \"This is a non-abstract field\"\n",
    "\n",
    "    @abstractmethod\n",
    "    def abstract_method(self):\n",
    "        \"\"\"Abstract method - must be implemented in subclass\"\"\"\n",
    "        pass\n",
    "\n",
    "    def non_abstract_method(self):\n",
    "        \"\"\"Non-abstract method\"\"\"\n",
    "        print(\"This is a non-abstract method from AbstractExample class.\")\n"
   ]
  },
  {
   "cell_type": "code",
   "execution_count": 63,
   "id": "5c5eec17-b0d5-44ed-92fe-91c9a9737740",
   "metadata": {},
   "outputs": [
    {
     "name": "stdout",
     "output_type": "stream",
     "text": [
      "This is a non-abstract method from AbstractExample class.\n"
     ]
    }
   ],
   "source": [
    "class SubClass(AbstractExample):  \n",
    "    def abstract_method(self):\n",
    "        print(\"Implementation of abstract method in SubClass.\")\n",
    "\n",
    "# Creating object of subclass\n",
    "sub_obj = SubClass()\n",
    "sub_obj.non_abstract_method()  "
   ]
  },
  {
   "cell_type": "code",
   "execution_count": 65,
   "id": "c5fc4c83-c868-4111-a5c9-425eea2a06ff",
   "metadata": {},
   "outputs": [
    {
     "name": "stdout",
     "output_type": "stream",
     "text": [
      "Implementation of abstract method in SubClass.\n"
     ]
    }
   ],
   "source": [
    "sub_obj.abstract_method()  \n"
   ]
  },
  {
   "cell_type": "code",
   "execution_count": 67,
   "id": "0dcd822e-e267-4ff4-b875-478d475161d6",
   "metadata": {},
   "outputs": [
    {
     "name": "stdout",
     "output_type": "stream",
     "text": [
      "\n",
      "Creating an object for SubClass and accessing methods:\n",
      "This is a non-abstract method from AbstractExample class.\n",
      "Implementation of abstract method in SubClass.\n",
      "\n",
      "Calling methods from within the child class:\n",
      "Calling abstract and non-abstract methods within subclass:\n",
      "Implementation of abstract method in SubClass.\n",
      "This is a non-abstract method from AbstractExample class.\n"
     ]
    }
   ],
   "source": [
    "from abc import ABC, abstractmethod\n",
    "\n",
    "# Abstract Class\n",
    "class AbstractExample(ABC):\n",
    "    def __init__(self):\n",
    "        self.value = \"This is a non-abstract field\"\n",
    "\n",
    "    @abstractmethod\n",
    "    def abstract_method(self):\n",
    "        pass\n",
    "\n",
    "    def non_abstract_method(self):\n",
    "        print(\"This is a non-abstract method from AbstractExample class.\")\n",
    "\n",
    "# Subclass Implementing Abstract Method\n",
    "class SubClass(AbstractExample):\n",
    "    def abstract_method(self):\n",
    "        print(\"Implementation of abstract method in SubClass.\")\n",
    "\n",
    "    def call_own_methods(self):\n",
    "        print(\"Calling abstract and non-abstract methods within subclass:\")\n",
    "        self.abstract_method()\n",
    "        self.non_abstract_method()\n",
    "\n",
    "# Creating an object for the child class\n",
    "print(\"\\nCreating an object for SubClass and accessing methods:\")\n",
    "sub_obj = SubClass()\n",
    "\n",
    "# Calling methods through subclass instance\n",
    "sub_obj.non_abstract_method()  # Non-abstract method\n",
    "sub_obj.abstract_method()  # Abstract method (implemented in subclass)\n",
    "\n",
    "# Calling methods within the child class itself\n",
    "print(\"\\nCalling methods from within the child class:\")\n",
    "sub_obj.call_own_methods()\n"
   ]
  },
  {
   "cell_type": "code",
   "execution_count": 81,
   "id": "cefa1695-b2d7-442f-af88-97719197e1d2",
   "metadata": {},
   "outputs": [],
   "source": [
    "\n",
    "class ClassOne:\n",
    "    def __init__(self):\n",
    "        self.message = \"Hello from ClassOne\"\n",
    "\n",
    "    def display(self):\n",
    "        print(self.message)\n"
   ]
  },
  {
   "cell_type": "code",
   "execution_count": 75,
   "id": "7c498452-541e-4834-8fe4-c2b9c12ab2cc",
   "metadata": {},
   "outputs": [],
   "source": [
    "class ClassTwo:\n",
    "    def __init__(self):\n",
    "        self.message = \"Hello from ClassTwo\"\n",
    "\n",
    "    def display(self):\n",
    "        print(self.message)\n"
   ]
  },
  {
   "cell_type": "code",
   "execution_count": 73,
   "id": "850f7a8c-ac0c-49b3-a3ab-083ce5c60e73",
   "metadata": {},
   "outputs": [
    {
     "ename": "ModuleNotFoundError",
     "evalue": "No module named 'my_package'",
     "output_type": "error",
     "traceback": [
      "\u001b[1;31m---------------------------------------------------------------------------\u001b[0m",
      "\u001b[1;31mModuleNotFoundError\u001b[0m                       Traceback (most recent call last)",
      "Cell \u001b[1;32mIn[73], line 1\u001b[0m\n\u001b[1;32m----> 1\u001b[0m \u001b[38;5;28;01mfrom\u001b[39;00m \u001b[38;5;21;01mmy_package\u001b[39;00m\u001b[38;5;21;01m.\u001b[39;00m\u001b[38;5;21;01mclass1\u001b[39;00m \u001b[38;5;28;01mimport\u001b[39;00m ClassOne\n\u001b[0;32m      2\u001b[0m \u001b[38;5;28;01mfrom\u001b[39;00m \u001b[38;5;21;01mmy_package\u001b[39;00m\u001b[38;5;21;01m.\u001b[39;00m\u001b[38;5;21;01mclass2\u001b[39;00m \u001b[38;5;28;01mimport\u001b[39;00m ClassTwo\n\u001b[0;32m      4\u001b[0m \u001b[38;5;66;03m# Creating objects\u001b[39;00m\n",
      "\u001b[1;31mModuleNotFoundError\u001b[0m: No module named 'my_package'"
     ]
    }
   ],
   "source": [
    "\n",
    "from my_package.class1 import ClassOne\n",
    "from my_package.class2 import ClassTwo\n",
    "\n",
    "# Creating objects\n",
    "obj1 = ClassOne()\n",
    "obj2 = ClassTwo()\n",
    "\n",
    "# Calling methods\n",
    "obj1.display()\n",
    "obj2.display()\n"
   ]
  },
  {
   "cell_type": "code",
   "execution_count": 83,
   "id": "24c7df59-1a09-44fa-8cdb-10d19bae3985",
   "metadata": {},
   "outputs": [
    {
     "ename": "ModuleNotFoundError",
     "evalue": "No module named 'my_package'",
     "output_type": "error",
     "traceback": [
      "\u001b[1;31m---------------------------------------------------------------------------\u001b[0m",
      "\u001b[1;31mModuleNotFoundError\u001b[0m                       Traceback (most recent call last)",
      "Cell \u001b[1;32mIn[83], line 2\u001b[0m\n\u001b[0;32m      1\u001b[0m \u001b[38;5;66;03m# Importing the classes from the package\u001b[39;00m\n\u001b[1;32m----> 2\u001b[0m \u001b[38;5;28;01mfrom\u001b[39;00m \u001b[38;5;21;01mmy_package\u001b[39;00m\u001b[38;5;21;01m.\u001b[39;00m\u001b[38;5;21;01mclass1\u001b[39;00m \u001b[38;5;28;01mimport\u001b[39;00m ClassOne\n\u001b[0;32m      3\u001b[0m \u001b[38;5;28;01mfrom\u001b[39;00m \u001b[38;5;21;01mmy_package\u001b[39;00m\u001b[38;5;21;01m.\u001b[39;00m\u001b[38;5;21;01mclass2\u001b[39;00m \u001b[38;5;28;01mimport\u001b[39;00m ClassTwo\n\u001b[0;32m      5\u001b[0m \u001b[38;5;66;03m# Creating objects\u001b[39;00m\n",
      "\u001b[1;31mModuleNotFoundError\u001b[0m: No module named 'my_package'"
     ]
    }
   ],
   "source": [
    "# Importing the classes from the package\n",
    "from my_package.class1 import ClassOne\n",
    "from my_package.class2 import ClassTwo\n",
    "\n",
    "# Creating objects\n",
    "obj1 = ClassOne()\n",
    "obj2 = ClassTwo()\n",
    "\n",
    "# Calling methods\n",
    "obj1.display()\n",
    "obj2.display()\n"
   ]
  },
  {
   "cell_type": "code",
   "execution_count": 85,
   "id": "aae96d96-f8cb-4137-ba37-11a32847a26c",
   "metadata": {},
   "outputs": [
    {
     "ename": "SyntaxError",
     "evalue": "invalid character '│' (U+2502) (2853424622.py, line 2)",
     "output_type": "error",
     "traceback": [
      "\u001b[1;36m  Cell \u001b[1;32mIn[85], line 2\u001b[1;36m\u001b[0m\n\u001b[1;33m    │── my_package/          # Package folder\u001b[0m\n\u001b[1;37m    ^\u001b[0m\n\u001b[1;31mSyntaxError\u001b[0m\u001b[1;31m:\u001b[0m invalid character '│' (U+2502)\n"
     ]
    }
   ],
   "source": [
    "project_folder/          # Your project folder\n",
    "│── my_package/          # Package folder\n",
    "│   │── __init__.py      # This must exist (even if empty)\n",
    "│   │── class1.py        # ClassOne definition\n",
    "│   │── class2.py        # ClassTwo definition\n",
    "│── main.py              # Your script to import and run classes\n"
   ]
  },
  {
   "cell_type": "code",
   "execution_count": null,
   "id": "a105f1ca-727f-4570-b260-c5abb76f2fd8",
   "metadata": {},
   "outputs": [],
   "source": []
  }
 ],
 "metadata": {
  "kernelspec": {
   "display_name": "Python 3 (ipykernel)",
   "language": "python",
   "name": "python3"
  },
  "language_info": {
   "codemirror_mode": {
    "name": "ipython",
    "version": 3
   },
   "file_extension": ".py",
   "mimetype": "text/x-python",
   "name": "python",
   "nbconvert_exporter": "python",
   "pygments_lexer": "ipython3",
   "version": "3.11.7"
  }
 },
 "nbformat": 4,
 "nbformat_minor": 5
}
